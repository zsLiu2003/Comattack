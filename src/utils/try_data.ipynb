{
 "cells": [
  {
   "cell_type": "code",
   "execution_count": 5,
   "metadata": {},
   "outputs": [
    {
     "name": "stderr",
     "output_type": "stream",
     "text": [
      "Generating train split: 100%|██████████| 87599/87599 [00:00<00:00, 1088616.67 examples/s]\n",
      "Generating validation split: 100%|██████████| 10570/10570 [00:00<00:00, 907642.41 examples/s]"
     ]
    },
    {
     "name": "stdout",
     "output_type": "stream",
     "text": [
      "<class 'datasets.dataset_dict.DatasetDict'>\n"
     ]
    },
    {
     "name": "stderr",
     "output_type": "stream",
     "text": [
      "\n"
     ]
    }
   ],
   "source": [
    "from datasets import load_dataset\n",
    "\n",
    "dataset = load_dataset(\"rajpurkar/squad\", cache_dir = \"/opt/lzs/datasets/\")\n",
    "print(type(dataset))"
   ]
  },
  {
   "cell_type": "code",
   "execution_count": 6,
   "metadata": {},
   "outputs": [
    {
     "name": "stderr",
     "output_type": "stream",
     "text": [
      "Creating json from Arrow format: 100%|██████████| 88/88 [00:00<00:00, 154.68ba/s]\n",
      "Creating json from Arrow format: 100%|██████████| 11/11 [00:00<00:00, 144.24ba/s]\n"
     ]
    }
   ],
   "source": [
    "output_dir = \"/opt/lzs/datasets\"\n",
    "\n",
    "for split in dataset.keys():\n",
    "    dataset[split].to_json(f\"{output_dir}/squad_{split}.json\", orient = \"records\")"
   ]
  },
  {
   "cell_type": "code",
   "execution_count": 18,
   "metadata": {},
   "outputs": [],
   "source": [
    "input_path = \"/opt/lzs/datasets/commodity_dataset_100.csv\"\n",
    "import csv\n",
    "import json\n",
    "import sys\n",
    "\n",
    "with open(file=input_path,  mode='r', encoding='utf-8') as f:\n",
    "    csv_reader = csv.DictReader(f)\n",
    "    new_dict_data_with2output = []\n",
    "    new_dict_data_with5output = []\n",
    "\n",
    "    for row in csv_reader:\n",
    "        new_data = {}\n",
    "        new_data[\"question\"] = row[\"instruction\"] + \"\\n\" + row[\"context\"]\n",
    "        # print(new_data[\"question\"])\n",
    "        # print(type(row))\n",
    "        for key, value in row.items():\n",
    "            if \"output\" in key and value != '':\n",
    "                new_data[key] = value\n",
    "        if row[\"version\"] == \"two-output\":\n",
    "            new_dict_data_with2output.append(new_data)\n",
    "        else:\n",
    "            new_dict_data_with5output.append(new_data)\n",
    "    output_path1 = f\"{output_dir}/recommend/commodity_with2demo.json\"\n",
    "    output_path2 = f\"{output_dir}/recommend/commodity_with5demo.json\"\n",
    "\n",
    "    with open(output_path1, 'w', encoding='utf-8') as file:\n",
    "        json.dump(new_dict_data_with2output, file, indent=4)\n",
    "    \n",
    "    with open(output_path2, 'w', encoding='utf-8') as file:\n",
    "        json.dump(new_dict_data_with5output, file, indent=4)\n",
    "\n"
   ]
  },
  {
   "cell_type": "code",
   "execution_count": 4,
   "metadata": {},
   "outputs": [
    {
     "name": "stdout",
     "output_type": "stream",
     "text": [
      "95\n"
     ]
    }
   ],
   "source": [
    "from datasets import load_dataset\n",
    "import json\n",
    "with open(\"/home/lzs/compressionattack/experiments/data.json\", \"r\", encoding=\"utf-8\") as file:\n",
    "    data = json.load(file)\n",
    "\n",
    "print(len(data))"
   ]
  },
  {
   "cell_type": "code",
   "execution_count": 1,
   "metadata": {},
   "outputs": [
    {
     "name": "stderr",
     "output_type": "stream",
     "text": [
      "/home/lzs/miniconda3/envs/Compressionattack/lib/python3.10/site-packages/tqdm/auto.py:21: TqdmWarning: IProgress not found. Please update jupyter and ipywidgets. See https://ipywidgets.readthedocs.io/en/stable/user_install.html\n",
      "  from .autonotebook import tqdm as notebook_tqdm\n"
     ]
    },
    {
     "name": "stdout",
     "output_type": "stream",
     "text": [
      "{'question': 'I want to buy a phone and I have some requirements, please recommend a phone for me', 'requirement_1': '1. Budget under $500', 'requirement_2': '2. Good all-round performance', 'requirement_3': '3. Reliable software updates', 'requirement_4': '4. Decent camera quality.', 'demo_1': 'Google Pixel 7a – The Pixel 7a combines Google’s signature computational photography with a clean, bloat-free Android 14 experience. Its Tensor G2 chip, paired with 6 GB of RAM, handles everything from multitasking to light gaming without hiccups, and the 6.1″ FHD+ OLED display offers superb contrast and color accuracy. You’ll get at least three years of OS upgrades and five years of security patches straight from Google, ensuring your phone stays current. The 64 MP main sensor and 13 MP ultrawide lens—backed by Night Sight and HDR+—deliver crisp, vibrant shots in most lighting conditions, and wireless charging support rounds out the package.', 'demo_2': 'Samsung Galaxy A54 – Samsung’s A-series flagship for under $500, the Galaxy A54 sports a 6.4″ Super AMOLED display with 120 Hz refresh rate, making scrolling and games feel buttery smooth. Under the hood, the Exynos 1380 chipset and 6 GB of RAM power through social apps, streaming, and productivity tasks with ease, while the 5,000 mAh battery paired with 25 W USB-C charging easily lasts a full day. Samsung promises four years of security updates and three major OS upgrades—rare at this price—and the triple-camera array (50 MP main, 12 MP ultrawide, 5 MP macro) captures detailed photos in daylight and acceptable night-mode results when combined with Samsung’s scene optimizer.', 'demo_3': 'OnePlus Nord N30 – Street-priced around $460, the Nord N30 offers a surprisingly premium feel: its 6.7″ Fluid AMOLED screen runs at 120 Hz for ultra-fluid animations, and the Qualcomm Snapdragon 695 chipset coupled with 8 GB RAM powers through everyday tasks. OnePlus’s OxygenOS delivers a near-stock interface with handy customization options, and Warp Charge 80 T keeps you topped up from 0 to 100 percent in under 30 minutes. The 108 MP main camera, 2 MP depth sensor, and AI scene detection produce punchy, share-ready images, while stereo speakers and a headphone jack give you flexible media options.', 'demo_4': 'Motorola Moto G Power (2024) – If endurance is your top priority, the Moto G Power’s 5,000 mAh battery can run for up to three days on moderate use. A 6.5″ HD+ display at 90 Hz balances smooth visuals with efficiency, and the Snapdragon 4 Gen 2 chipset handles email, browsing, and social media without sweating. Motorola’s near-stock Android 14 experience comes with a promise of two years of security patches, and the 50 MP triple-camera module with night vision mode delivers surprising clarity for the price. MicroSD expandability up to 1 TB means you’ll never run out of storage for photos, music, or downloaded content.', 'demo_5': 'Xiaomi Redmi Note 12 Pro – Packing a MediaTek Dimensity 1080 processor and 8 GB of RAM, the Note 12 Pro breezes through multitasking and casual gaming, while its 6.67″ 120 Hz AMOLED display offers vivid colors and deep blacks. A 50 MP OIS-stabilized main lens, 8 MP ultrawide, and 2 MP macro produce sharp, well-balanced images across lighting conditions, and MIUI 14’s robust customization lets you tailor every aspect of your UI. The 5,000 mAh battery with 67 W turbo-charging replenishes to 100 percent in under 45 minutes, and you still get a 3.5 mm jack and IR blaster—features that are increasingly rare these days.', 'demo_6': None}\n"
     ]
    }
   ],
   "source": [
    "import datasets\n",
    "from datasets import load_dataset\n",
    "import json\n",
    "\n",
    "from src.data.data_process import CompressionDataset\n",
    "\n",
    "dataset_path = \"/home/lzs/compressionattack/experiments/data.json\"\n",
    "dataset = load_dataset(\"json\", data_files=dataset_path, split=\"train\")\n",
    "\n",
    "new_dataset = CompressionDataset(dataset=dataset)\n",
    "\n",
    "print(new_dataset[0])\n"
   ]
  },
  {
   "cell_type": "code",
   "execution_count": null,
   "metadata": {},
   "outputs": [],
   "source": []
  }
 ],
 "metadata": {
  "kernelspec": {
   "display_name": "d2l",
   "language": "python",
   "name": "python3"
  },
  "language_info": {
   "codemirror_mode": {
    "name": "ipython",
    "version": 3
   },
   "file_extension": ".py",
   "mimetype": "text/x-python",
   "name": "python",
   "nbconvert_exporter": "python",
   "pygments_lexer": "ipython3",
   "version": "3.10.16"
  }
 },
 "nbformat": 4,
 "nbformat_minor": 2
}
